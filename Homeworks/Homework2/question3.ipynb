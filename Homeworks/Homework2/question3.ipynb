{
 "cells": [
  {
   "cell_type": "markdown",
   "metadata": {},
   "source": [
    "## Question 3"
   ]
  },
  {
   "cell_type": "code",
   "execution_count": 65,
   "metadata": {},
   "outputs": [],
   "source": [
    "import math\n",
    "\n",
    "def f(x):\n",
    "    return math.cos(x) + 1 - x\n",
    "\n",
    "def c(f, b0, a0):\n",
    "    numerator = f(b0) * (b0 - a0)\n",
    "    denominator = f(b0) - f(a0)\n",
    "    \n",
    "    if denominator == 0:\n",
    "        return \"Error: Division by zero (f(b0) - f(a0) is zero)\"\n",
    "    \n",
    "    c1 = b0 - (numerator / denominator)\n",
    "    return c1"
   ]
  },
  {
   "cell_type": "code",
   "execution_count": 66,
   "metadata": {},
   "outputs": [
    {
     "data": {
      "text/plain": [
       "0.8967067093471652"
      ]
     },
     "execution_count": 66,
     "metadata": {},
     "output_type": "execute_result"
    }
   ],
   "source": [
    "f(0.8)"
   ]
  },
  {
   "cell_type": "code",
   "execution_count": 67,
   "metadata": {},
   "outputs": [
    {
     "data": {
      "text/plain": [
       "-0.629199522301289"
      ]
     },
     "execution_count": 67,
     "metadata": {},
     "output_type": "execute_result"
    }
   ],
   "source": [
    "f(1.6)"
   ]
  },
  {
   "cell_type": "code",
   "execution_count": 68,
   "metadata": {},
   "outputs": [
    {
     "name": "stdout",
     "output_type": "stream",
     "text": [
      "1.2701241482595913 0.026038148273819672\n"
     ]
    }
   ],
   "source": [
    "c_0 = c(f, 0.8, 1.6)\n",
    "print(c_0, f(c_0))"
   ]
  },
  {
   "cell_type": "markdown",
   "metadata": {},
   "source": [
    "since f(c_0) * f(1.6) < 0, c_1 is between c_0 and 1.6"
   ]
  },
  {
   "cell_type": "code",
   "execution_count": 69,
   "metadata": {},
   "outputs": [
    {
     "name": "stdout",
     "output_type": "stream",
     "text": [
      "1.283232912796939 0.0003836221627835368\n"
     ]
    }
   ],
   "source": [
    "c_1 = c(f, c_0, 1.6)\n",
    "print(c_1, f(c_1))"
   ]
  },
  {
   "cell_type": "markdown",
   "metadata": {},
   "source": [
    "since f(c_1) * f(1.6) < 0, c_2 is between c_1 and 1.6"
   ]
  },
  {
   "cell_type": "code",
   "execution_count": 70,
   "metadata": {},
   "outputs": [
    {
     "name": "stdout",
     "output_type": "stream",
     "text": [
      "1.2834259276134252 5.5128652756142316e-06\n"
     ]
    }
   ],
   "source": [
    "c_2 = c(f, c_1, 1.6)\n",
    "print(c_2, f(c_2))"
   ]
  },
  {
   "cell_type": "markdown",
   "metadata": {},
   "source": [
    "similar, c_3 is between c_2 and 1.6\n"
   ]
  },
  {
   "cell_type": "code",
   "execution_count": 71,
   "metadata": {},
   "outputs": [
    {
     "name": "stdout",
     "output_type": "stream",
     "text": [
      "1.283428701320108 7.91935916844011e-08\n"
     ]
    }
   ],
   "source": [
    "c_3 = c(f, c_2, 1.6)\n",
    "print(c_3, f(c_3))"
   ]
  },
  {
   "cell_type": "markdown",
   "metadata": {},
   "source": [
    "we have \n",
    "$$\n",
    "c_0 = 1.2701241482595913 \\\\\n",
    "c_1 = 1.283232912796939 \\\\\n",
    "c_2 = 1.2834259276134252 \\\\\n",
    "c_3 = 1.283428701320108 \\\\\n",
    "$$"
   ]
  }
 ],
 "metadata": {
  "kernelspec": {
   "display_name": "base",
   "language": "python",
   "name": "python3"
  },
  "language_info": {
   "codemirror_mode": {
    "name": "ipython",
    "version": 3
   },
   "file_extension": ".py",
   "mimetype": "text/x-python",
   "name": "python",
   "nbconvert_exporter": "python",
   "pygments_lexer": "ipython3",
   "version": "3.12.4"
  }
 },
 "nbformat": 4,
 "nbformat_minor": 2
}
