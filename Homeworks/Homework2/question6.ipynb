{
 "cells": [
  {
   "cell_type": "markdown",
   "metadata": {},
   "source": [
    "# Question 6"
   ]
  },
  {
   "cell_type": "code",
   "execution_count": 10,
   "metadata": {},
   "outputs": [],
   "source": [
    "import math\n",
    "\n",
    "def f(x):\n",
    "    return x - math.cos(x)\n",
    "\n",
    "def c(f, b0, a0):\n",
    "    numerator = f(b0) * (b0 - a0)\n",
    "    denominator = f(b0) - f(a0)\n",
    "    \n",
    "    if denominator == 0:\n",
    "        return \"Error: Division by zero (f(b0) - f(a0) is zero)\"\n",
    "    \n",
    "    c1 = b0 - (numerator / denominator)\n",
    "    return c1"
   ]
  },
  {
   "cell_type": "code",
   "execution_count": 11,
   "metadata": {},
   "outputs": [],
   "source": [
    "count = 0\n",
    "def bisection(f, a, b, tol=1e-6, max_iter=100):\n",
    "    global count\n",
    "    if f(a) * f(b) >= 0:\n",
    "        raise ValueError(\"f(a) and f(b) must have opposite signs\")\n",
    "    c = (a + b) / 2\n",
    "    while abs(f(c)) > tol and c != a and c != b:\n",
    "        print(f\"Iteration {count}: c = {c}, f(c) = {f(c)}\")\n",
    "        if f(a) * f(c) < 0:\n",
    "            b = c\n",
    "        else:\n",
    "            a = c\n",
    "        c = (a + b) / 2\n",
    "        count += 1\n",
    "    return c"
   ]
  },
  {
   "cell_type": "code",
   "execution_count": 12,
   "metadata": {},
   "outputs": [
    {
     "name": "stdout",
     "output_type": "stream",
     "text": [
      "Iteration 0: c = 0.0, f(c) = -1.0\n",
      "Iteration 1: c = 1.0, f(c) = 0.45969769413186023\n",
      "Iteration 2: c = 0.5, f(c) = -0.37758256189037276\n",
      "Iteration 3: c = 0.75, f(c) = 0.018311131126179103\n",
      "Iteration 4: c = 0.625, f(c) = -0.18596311950521793\n",
      "Iteration 5: c = 0.6875, f(c) = -0.0853349461524715\n",
      "Iteration 6: c = 0.71875, f(c) = -0.03387937241806649\n",
      "Iteration 7: c = 0.734375, f(c) = -0.00787472545850132\n",
      "Iteration 8: c = 0.7421875, f(c) = 0.005195711743759213\n",
      "Iteration 9: c = 0.73828125, f(c) = -0.001345149751805108\n",
      "Iteration 10: c = 0.740234375, f(c) = 0.001923872780897673\n",
      "Iteration 11: c = 0.7392578125, f(c) = 0.0002890091467900868\n",
      "Iteration 12: c = 0.73876953125, f(c) = -0.0005281584336581657\n",
      "Iteration 13: c = 0.739013671875, f(c) = -0.00011959667132188656\n",
      "Iteration 14: c = 0.7391357421875, f(c) = 8.470073137478717e-05\n",
      "Iteration 15: c = 0.73907470703125, f(c) = -1.7449346639941687e-05\n",
      "Iteration 16: c = 0.739105224609375, f(c) = 3.362534821038654e-05\n",
      "Iteration 17: c = 0.7390899658203125, f(c) = 8.087914744714375e-06\n",
      "Iteration 18: c = 0.7390823364257812, f(c) = -4.680737457851691e-06\n",
      "Iteration 19: c = 0.7390861511230469, f(c) = 1.7035832658995886e-06\n",
      "Iteration 20: c = 0.7390842437744141, f(c) = -1.488578440400623e-06\n"
     ]
    },
    {
     "data": {
      "text/plain": [
       "0.7390851974487305"
      ]
     },
     "execution_count": 12,
     "metadata": {},
     "output_type": "execute_result"
    }
   ],
   "source": [
    "bisection(f, -2, 2)"
   ]
  }
 ],
 "metadata": {
  "kernelspec": {
   "display_name": "base",
   "language": "python",
   "name": "python3"
  },
  "language_info": {
   "codemirror_mode": {
    "name": "ipython",
    "version": 3
   },
   "file_extension": ".py",
   "mimetype": "text/x-python",
   "name": "python",
   "nbconvert_exporter": "python",
   "pygments_lexer": "ipython3",
   "version": "3.12.4"
  }
 },
 "nbformat": 4,
 "nbformat_minor": 2
}
