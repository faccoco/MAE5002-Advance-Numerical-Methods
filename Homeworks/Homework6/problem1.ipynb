{
 "cells": [
  {
   "cell_type": "code",
   "execution_count": 25,
   "metadata": {},
   "outputs": [],
   "source": [
    "import sympy as sp\n",
    "from Homework6 import *"
   ]
  },
  {
   "cell_type": "code",
   "execution_count": 26,
   "metadata": {},
   "outputs": [
    {
     "name": "stdout",
     "output_type": "stream",
     "text": [
      "13.999999999999986 13.999999999999986\n",
      "13.999999999999702 13.999999999999702\n",
      "13.999999999995794 14.000000000002899\n",
      "5.7587034813925575 3.3597438975590332\n",
      "5.759987039948067 3.3599974399896926\n",
      "5.759999870400101 3.359999974400285\n"
     ]
    }
   ],
   "source": [
    "f_1 = lambda x, y: x**2 + y**2 + 2 * x * y\n",
    "f_2 = lambda x, y: x**2 * y**2 / (x + y)\n",
    "\n",
    "print(df_dx(f_1, 3, 4, 0.1), df_dy(f_1, 3, 4, 0.1))\n",
    "print(df_dx(f_1, 3, 4, 0.01), df_dy(f_1, 3, 4, 0.01))\n",
    "print(df_dx(f_1, 3, 4, 0.001), df_dy(f_1, 3, 4, 0.001))\n",
    "\n",
    "print(df_dx(f_2, 2, 3, 0.1), df_dy(f_2, 2, 3, 0.1))\n",
    "print(df_dx(f_2, 2, 3, 0.01), df_dy(f_2, 2, 3, 0.01))\n",
    "print(df_dx(f_2, 2, 3, 0.001), df_dy(f_2, 2, 3, 0.001))\n"
   ]
  },
  {
   "cell_type": "code",
   "execution_count": 27,
   "metadata": {},
   "outputs": [
    {
     "data": {
      "text/plain": [
       "(2*x + 2*y,\n",
       " 2*x + 2*y,\n",
       " -x**2*y**2/(x + y)**2 + 2*x*y**2/(x + y),\n",
       " -x**2*y**2/(x + y)**2 + 2*x**2*y/(x + y))"
      ]
     },
     "execution_count": 27,
     "metadata": {},
     "output_type": "execute_result"
    }
   ],
   "source": [
    "x, y, h = sp.symbols('x y h')\n",
    "f_1 = x**2 + y**2 + 2 * x * y\n",
    "f_2 = (x**2 * y**2) / (x + y)\n",
    "\n",
    "df1_dx = sp.diff(f_1, x)\n",
    "df1_dy = sp.diff(f_1, y)\n",
    "df2_dx = sp.diff(f_2, x)\n",
    "df2_dy = sp.diff(f_2, y)\n",
    "\n",
    "f_1_x = df1_dx.subs([(x, 3), (y, 4)])\n",
    "f_1_y = df1_dy.subs([(x, 3), (y, 4)])\n",
    "f_2_x = df2_dx.subs([(x, 2), (y, 3)])\n",
    "f_2_y = df2_dy.subs([(x, 2), (y, 3)])\n",
    "df1_dx, df1_dy, df2_dx, df2_dy"
   ]
  },
  {
   "cell_type": "code",
   "execution_count": 28,
   "metadata": {},
   "outputs": [
    {
     "name": "stdout",
     "output_type": "stream",
     "text": [
      "14 14 5.76000000000000 3.36000000000000\n"
     ]
    }
   ],
   "source": [
    "print(f_1_x, f_1_y, f_2_x.evalf(), f_2_y.evalf())\n"
   ]
  }
 ],
 "metadata": {
  "kernelspec": {
   "display_name": "base",
   "language": "python",
   "name": "python3"
  },
  "language_info": {
   "codemirror_mode": {
    "name": "ipython",
    "version": 3
   },
   "file_extension": ".py",
   "mimetype": "text/x-python",
   "name": "python",
   "nbconvert_exporter": "python",
   "pygments_lexer": "ipython3",
   "version": "3.12.9"
  }
 },
 "nbformat": 4,
 "nbformat_minor": 2
}
